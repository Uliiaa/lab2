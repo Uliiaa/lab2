{
 "cells": [
  {
   "cell_type": "markdown",
   "id": "64d44da9-558f-4634-9de8-de0f46f93cfe",
   "metadata": {},
   "source": [
    "## Часть 1: Введение в Pandas\n",
    "\n",
    "Pandas - это библиотека Python для работы с данными. Она предоставляет мощные инструменты для анализа и манипуляции данными.\n",
    "\n",
    "### Установка Pandas\n",
    "\n",
    "Для начала убедитесь, что у вас установлена библиотека Pandas. Если ее нет, установите ее с помощью команды:\n"
   ]
  },
  {
   "cell_type": "code",
   "execution_count": null,
   "id": "7484df51-b002-414c-ae42-75a2df57c78d",
   "metadata": {},
   "outputs": [],
   "source": [
    "#!pip install pandas"
   ]
  },
  {
   "cell_type": "markdown",
   "id": "4b655e29-c3a5-4117-9860-2d6b9af62ac1",
   "metadata": {},
   "source": [
    "## Импорт библиотеки\n",
    "Давайте начнем с импорта библиотеки Pandas:"
   ]
  },
  {
   "cell_type": "code",
   "execution_count": 1,
   "id": "bfc3346f-3843-4aff-aec0-54321b9774f0",
   "metadata": {
    "tags": []
   },
   "outputs": [],
   "source": [
    "import pandas as pd"
   ]
  },
  {
   "cell_type": "markdown",
   "id": "ea8530e9-c179-48c1-8043-ff87f415ee67",
   "metadata": {},
   "source": [
    "## Часть 2: Работа с данными\n",
    "### Чтение данных\n",
    "Мы будем использовать датасет Titanic. Давайте прочитаем данные из CSV файла."
   ]
  },
  {
   "cell_type": "code",
   "execution_count": 5,
   "id": "fa5deec6-c85e-4d88-89df-bea7d75fcbba",
   "metadata": {},
   "outputs": [],
   "source": [
    "import pandas as pd\n",
    "\n",
    "\n",
    "file = pd.read_csv('titanic.csv')"
   ]
  },
  {
   "cell_type": "markdown",
   "id": "07dfd488-4960-495e-80d8-9cf5903449b6",
   "metadata": {},
   "source": [
    "### Предпросмотр данных\n",
    "Для первого ознакомления с данными давайте выведем первые несколько строк."
   ]
  },
  {
   "cell_type": "code",
   "execution_count": 47,
   "id": "216e104c-259f-4ecd-9cd4-40362f61ca4e",
   "metadata": {},
   "outputs": [
    {
     "name": "stdout",
     "output_type": "stream",
     "text": [
      "   PassengerId  Survived  Pclass  \\\n",
      "0            1         0       3   \n",
      "1            2         1       1   \n",
      "2            3         1       3   \n",
      "3            4         1       1   \n",
      "4            5         0       3   \n",
      "\n",
      "                                                Name     Sex   Age  SibSp  \\\n",
      "0                            Braund, Mr. Owen Harris    male  22.0      1   \n",
      "1  Cumings, Mrs. John Bradley (Florence Briggs Th...  female  38.0      1   \n",
      "2                             Heikkinen, Miss. Laina  female  26.0      0   \n",
      "3       Futrelle, Mrs. Jacques Heath (Lily May Peel)  female  35.0      1   \n",
      "4                           Allen, Mr. William Henry    male  35.0      0   \n",
      "\n",
      "   Parch            Ticket     Fare Cabin Embarked  \n",
      "0      0         A/5 21171   7.2500   NaN        S  \n",
      "1      0          PC 17599  71.2833   C85        C  \n",
      "2      0  STON/O2. 3101282   7.9250   NaN        S  \n",
      "3      0            113803  53.1000  C123        S  \n",
      "4      0            373450   8.0500   NaN        S  \n"
     ]
    }
   ],
   "source": [
    "import pandas as pd\n",
    "\n",
    "file = pd.read_csv('titanic.csv')\n",
    "\n",
    "print(file.head())"
   ]
  },
  {
   "cell_type": "markdown",
   "id": "b7ba5f57-07e1-4c0f-9b55-9d78638ee2cc",
   "metadata": {},
   "source": [
    "### Информация о данных\n",
    "Чтобы получить общую информацию о данных, воспользуйтесь методом .info()."
   ]
  },
  {
   "cell_type": "code",
   "execution_count": 45,
   "id": "43650b4f-f3e7-4480-b874-b5552f564383",
   "metadata": {},
   "outputs": [
    {
     "name": "stdout",
     "output_type": "stream",
     "text": [
      "<class 'pandas.core.frame.DataFrame'>\n",
      "RangeIndex: 891 entries, 0 to 890\n",
      "Data columns (total 12 columns):\n",
      " #   Column       Non-Null Count  Dtype  \n",
      "---  ------       --------------  -----  \n",
      " 0   PassengerId  891 non-null    int64  \n",
      " 1   Survived     891 non-null    int64  \n",
      " 2   Pclass       891 non-null    int64  \n",
      " 3   Name         891 non-null    object \n",
      " 4   Sex          891 non-null    object \n",
      " 5   Age          714 non-null    float64\n",
      " 6   SibSp        891 non-null    int64  \n",
      " 7   Parch        891 non-null    int64  \n",
      " 8   Ticket       891 non-null    object \n",
      " 9   Fare         891 non-null    float64\n",
      " 10  Cabin        204 non-null    object \n",
      " 11  Embarked     889 non-null    object \n",
      "dtypes: float64(2), int64(5), object(5)\n",
      "memory usage: 83.7+ KB\n",
      "None\n"
     ]
    }
   ],
   "source": [
    "import pandas as pd\n",
    "\n",
    "file = pd.read_csv('titanic.csv')\n",
    "\n",
    "print(file.info())"
   ]
  },
  {
   "cell_type": "markdown",
   "id": "a6857118-a82e-4586-a933-4eb0df9cb74e",
   "metadata": {},
   "source": [
    "### Работа с NaN\n",
    "Часто данные содержат пропущенные значения, которые представляются как NaN (Not a Number). Pandas предоставляет удобные методы для работы с ними.\n",
    "\n",
    "Проверка на наличие NaN. Методы fillna и dropna возвращают новые Dataframe, проверьте нет ли в них NaN"
   ]
  },
  {
   "cell_type": "code",
   "execution_count": 48,
   "id": "f7910fde-24f7-4cf8-991d-01f08bc45b63",
   "metadata": {
    "tags": []
   },
   "outputs": [
    {
     "name": "stdout",
     "output_type": "stream",
     "text": [
      "     PassengerId  Survived  Pclass   Name    Sex    Age  SibSp  Parch  Ticket  \\\n",
      "0          False     False   False  False  False  False  False  False   False   \n",
      "1          False     False   False  False  False  False  False  False   False   \n",
      "2          False     False   False  False  False  False  False  False   False   \n",
      "3          False     False   False  False  False  False  False  False   False   \n",
      "4          False     False   False  False  False  False  False  False   False   \n",
      "..           ...       ...     ...    ...    ...    ...    ...    ...     ...   \n",
      "886        False     False   False  False  False  False  False  False   False   \n",
      "887        False     False   False  False  False  False  False  False   False   \n",
      "888        False     False   False  False  False   True  False  False   False   \n",
      "889        False     False   False  False  False  False  False  False   False   \n",
      "890        False     False   False  False  False  False  False  False   False   \n",
      "\n",
      "      Fare  Cabin  Embarked  \n",
      "0    False   True     False  \n",
      "1    False  False     False  \n",
      "2    False   True     False  \n",
      "3    False  False     False  \n",
      "4    False   True     False  \n",
      "..     ...    ...       ...  \n",
      "886  False   True     False  \n",
      "887  False  False     False  \n",
      "888  False   True     False  \n",
      "889  False  False     False  \n",
      "890  False   True     False  \n",
      "\n",
      "[891 rows x 12 columns]\n"
     ]
    }
   ],
   "source": [
    "# Проверка на наличие NaN в DataFrame\n",
    "# Используйте метод .isna()\n",
    "# write your code here\n",
    "import pandas as pd\n",
    "\n",
    "file = pd.read_csv('titanic.csv')\n",
    "\n",
    "print(file.isna())"
   ]
  },
  {
   "cell_type": "markdown",
   "id": "1dadeaf7-e214-4552-b054-8e4a03714f72",
   "metadata": {},
   "source": [
    "Заполнение NaN"
   ]
  },
  {
   "cell_type": "code",
   "execution_count": 49,
   "id": "7d901187-75a9-497e-8774-6e0dde584197",
   "metadata": {},
   "outputs": [
    {
     "name": "stdout",
     "output_type": "stream",
     "text": [
      "     PassengerId  Survived  Pclass  \\\n",
      "0              1         0       3   \n",
      "1              2         1       1   \n",
      "2              3         1       3   \n",
      "3              4         1       1   \n",
      "4              5         0       3   \n",
      "..           ...       ...     ...   \n",
      "886          887         0       2   \n",
      "887          888         1       1   \n",
      "888          889         0       3   \n",
      "889          890         1       1   \n",
      "890          891         0       3   \n",
      "\n",
      "                                                  Name     Sex   Age  SibSp  \\\n",
      "0                              Braund, Mr. Owen Harris    male  22.0      1   \n",
      "1    Cumings, Mrs. John Bradley (Florence Briggs Th...  female  38.0      1   \n",
      "2                               Heikkinen, Miss. Laina  female  26.0      0   \n",
      "3         Futrelle, Mrs. Jacques Heath (Lily May Peel)  female  35.0      1   \n",
      "4                             Allen, Mr. William Henry    male  35.0      0   \n",
      "..                                                 ...     ...   ...    ...   \n",
      "886                              Montvila, Rev. Juozas    male  27.0      0   \n",
      "887                       Graham, Miss. Margaret Edith  female  19.0      0   \n",
      "888           Johnston, Miss. Catherine Helen \"Carrie\"  female   0.0      1   \n",
      "889                              Behr, Mr. Karl Howell    male  26.0      0   \n",
      "890                                Dooley, Mr. Patrick    male  32.0      0   \n",
      "\n",
      "     Parch            Ticket     Fare Cabin Embarked  \n",
      "0        0         A/5 21171   7.2500     0        S  \n",
      "1        0          PC 17599  71.2833   C85        C  \n",
      "2        0  STON/O2. 3101282   7.9250     0        S  \n",
      "3        0            113803  53.1000  C123        S  \n",
      "4        0            373450   8.0500     0        S  \n",
      "..     ...               ...      ...   ...      ...  \n",
      "886      0            211536  13.0000     0        S  \n",
      "887      0            112053  30.0000   B42        S  \n",
      "888      2        W./C. 6607  23.4500     0        S  \n",
      "889      0            111369  30.0000  C148        C  \n",
      "890      0            370376   7.7500     0        Q  \n",
      "\n",
      "[891 rows x 12 columns]\n"
     ]
    }
   ],
   "source": [
    "# Заполнение NaN определенным значением (например, нулем)\n",
    "# Используйте метод .fillna()\n",
    "# write your code here\n",
    "import pandas as pd\n",
    "\n",
    "file = pd.read_csv('titanic.csv')\n",
    "\n",
    "print(file.fillna(0))"
   ]
  },
  {
   "cell_type": "markdown",
   "id": "6f32fddb-ec60-456b-8958-5c81b0357d49",
   "metadata": {},
   "source": [
    "Удаление строк с NaN"
   ]
  },
  {
   "cell_type": "code",
   "execution_count": 27,
   "id": "4d188deb-0818-4b01-b3a5-9d20d2166d10",
   "metadata": {
    "tags": []
   },
   "outputs": [
    {
     "name": "stdout",
     "output_type": "stream",
     "text": [
      "   PassengerId  Survived  Pclass  \\\n",
      "1            2         1       1   \n",
      "3            4         1       1   \n",
      "\n",
      "                                                Name     Sex   Age  SibSp  \\\n",
      "1  Cumings, Mrs. John Bradley (Florence Briggs Th...  female  38.0      1   \n",
      "3       Futrelle, Mrs. Jacques Heath (Lily May Peel)  female  35.0      1   \n",
      "\n",
      "   Parch    Ticket     Fare Cabin Embarked  \n",
      "1      0  PC 17599  71.2833   C85        C  \n",
      "3      0    113803  53.1000  C123        S  \n"
     ]
    }
   ],
   "source": [
    "# Удаление строк, содержащих NaN\n",
    "# Используйте метод .dropna()\n",
    "# write your code here\n",
    "\n",
    "import pandas as pd\n",
    "\n",
    "\n",
    "file = pd.read_csv('titanic.csv')\n",
    "file = file.head()\n",
    "file = file.dropna()\n",
    "\n",
    "print(file)"
   ]
  },
  {
   "cell_type": "markdown",
   "id": "7a4ff131-1593-4cd2-b2bc-e0ddb2442d3b",
   "metadata": {},
   "source": [
    "## Часть 3: Обработка DataFrame\n",
    "### Выбор данных\n",
    "Pandas позволяет выбирать данные по индексам, меткам столбцов и условиям."
   ]
  },
  {
   "cell_type": "code",
   "execution_count": 29,
   "id": "d11f6114-ce4b-4e71-afec-adf1d8c1ec6e",
   "metadata": {
    "tags": []
   },
   "outputs": [
    {
     "name": "stdout",
     "output_type": "stream",
     "text": [
      "1      38.0\n",
      "3      35.0\n",
      "6      54.0\n",
      "10      4.0\n",
      "11     58.0\n",
      "       ... \n",
      "871    47.0\n",
      "872    33.0\n",
      "879    56.0\n",
      "887    19.0\n",
      "889    26.0\n",
      "Name: Age, Length: 183, dtype: float64                                                   Name     Sex\n",
      "1    Cumings, Mrs. John Bradley (Florence Briggs Th...  female\n",
      "3         Futrelle, Mrs. Jacques Heath (Lily May Peel)  female\n",
      "6                              McCarthy, Mr. Timothy J    male\n",
      "10                     Sandstrom, Miss. Marguerite Rut  female\n",
      "11                            Bonnell, Miss. Elizabeth  female\n",
      "..                                                 ...     ...\n",
      "871   Beckwith, Mrs. Richard Leonard (Sallie Monypeny)  female\n",
      "872                           Carlsson, Mr. Frans Olof    male\n",
      "879      Potter, Mrs. Thomas Jr (Lily Alexenia Wilson)  female\n",
      "887                       Graham, Miss. Margaret Edith  female\n",
      "889                              Behr, Mr. Karl Howell    male\n",
      "\n",
      "[183 rows x 2 columns] PassengerId                                               4\n",
      "Survived                                                  1\n",
      "Pclass                                                    1\n",
      "Name           Futrelle, Mrs. Jacques Heath (Lily May Peel)\n",
      "Sex                                                  female\n",
      "Age                                                    35.0\n",
      "SibSp                                                     1\n",
      "Parch                                                     0\n",
      "Ticket                                               113803\n",
      "Fare                                                   53.1\n",
      "Cabin                                                  C123\n",
      "Embarked                                                  S\n",
      "Name: 3, dtype: object      PassengerId  Survived  Pclass                                  Name  \\\n",
      "6              7         0       1               McCarthy, Mr. Timothy J   \n",
      "21            22         1       2                 Beesley, Mr. Lawrence   \n",
      "54            55         0       1        Ostby, Mr. Engelhart Cornelius   \n",
      "62            63         0       1           Harris, Mr. Henry Birkhardt   \n",
      "92            93         0       1           Chaffee, Mr. Herbert Fuller   \n",
      "..           ...       ...     ...                                   ...   \n",
      "789          790         0       1              Guggenheim, Mr. Benjamin   \n",
      "806          807         0       1                Andrews, Mr. Thomas Jr   \n",
      "857          858         1       1                Daly, Mr. Peter Denis    \n",
      "867          868         0       1  Roebling, Mr. Washington Augustus II   \n",
      "872          873         0       1              Carlsson, Mr. Frans Olof   \n",
      "\n",
      "      Sex   Age  SibSp  Parch       Ticket     Fare        Cabin Embarked  \n",
      "6    male  54.0      0      0        17463  51.8625          E46        S  \n",
      "21   male  34.0      0      0       248698  13.0000          D56        S  \n",
      "54   male  65.0      0      1       113509  61.9792          B30        C  \n",
      "62   male  45.0      1      0        36973  83.4750          C83        S  \n",
      "92   male  46.0      1      0  W.E.P. 5734  61.1750          E31        S  \n",
      "..    ...   ...    ...    ...          ...      ...          ...      ...  \n",
      "789  male  46.0      0      0     PC 17593  79.2000      B82 B84        C  \n",
      "806  male  39.0      0      0       112050   0.0000          A36        S  \n",
      "857  male  51.0      0      0       113055  26.5500          E17        S  \n",
      "867  male  31.0      0      0     PC 17590  50.4958          A24        S  \n",
      "872  male  33.0      0      0          695   5.0000  B51 B53 B55        S  \n",
      "\n",
      "[67 rows x 12 columns]\n"
     ]
    }
   ],
   "source": [
    "import pandas as pd\n",
    "\n",
    "\n",
    "file = pd.read_csv('titanic.csv')\n",
    "file = file.dropna()\n",
    "\n",
    "# Выбор столбца по метке\n",
    "# Используйте синтаксис DataFrame['название_столбца']\n",
    "# write your code here\n",
    "data1 = file['Age']\n",
    "\n",
    "# Выбор нескольких столбцов\n",
    "# Используйте синтаксис DataFrame[['столбец_1', 'столбец_2']]\n",
    "# write your code here\n",
    "data2 = file[['Name', 'Sex']]\n",
    "\n",
    "# Выбор строк по индексу\n",
    "# Используйте метод .loc[]\n",
    "# write your code here\n",
    "data3 = file.loc[3]\n",
    "\n",
    "# Выбор строк и столбцов по условию\n",
    "# Используя логические операции, выберите мужчин старше 30\n",
    "# write your code here\n",
    "\n",
    "data4 = file[(file['Age'] > 30) & (file['Sex'] == 'male')]\n",
    "\n",
    "print(\n",
    "    data1, data2, data3, data4\n",
    ")"
   ]
  },
  {
   "cell_type": "markdown",
   "id": "f3102de8-d2fd-4593-bf26-721316ae51e9",
   "metadata": {},
   "source": [
    "### Сортировка данных\n",
    "Сортировка данных по значениям столбцов."
   ]
  },
  {
   "cell_type": "code",
   "execution_count": 37,
   "id": "de5e850c-e920-4ae4-aadb-3f1953438b09",
   "metadata": {
    "tags": []
   },
   "outputs": [
    {
     "name": "stdout",
     "output_type": "stream",
     "text": [
      "     PassengerId  Survived  Pclass                                  Name  \\\n",
      "305          306         1       1        Allison, Master. Hudson Trevor   \n",
      "183          184         1       2             Becker, Master. Richard F   \n",
      "205          206         0       3            Strom, Miss. Telma Matilda   \n",
      "297          298         0       1          Allison, Miss. Helen Loraine   \n",
      "340          341         1       2        Navratil, Master. Edmond Roger   \n",
      "..           ...       ...     ...                                   ...   \n",
      "54            55         0       1        Ostby, Mr. Engelhart Cornelius   \n",
      "456          457         0       1             Millet, Mr. Francis Davis   \n",
      "745          746         0       1          Crosby, Capt. Edward Gifford   \n",
      "96            97         0       1             Goldschmidt, Mr. George B   \n",
      "630          631         1       1  Barkworth, Mr. Algernon Henry Wilson   \n",
      "\n",
      "        Sex    Age  SibSp  Parch     Ticket      Fare    Cabin Embarked  \n",
      "305    male   0.92      1      2     113781  151.5500  C22 C26        S  \n",
      "183    male   1.00      2      1     230136   39.0000       F4        S  \n",
      "205  female   2.00      0      1     347054   10.4625       G6        S  \n",
      "297  female   2.00      1      2     113781  151.5500  C22 C26        S  \n",
      "340    male   2.00      1      1     230080   26.0000       F2        S  \n",
      "..      ...    ...    ...    ...        ...       ...      ...      ...  \n",
      "54     male  65.00      0      1     113509   61.9792      B30        C  \n",
      "456    male  65.00      0      0      13509   26.5500      E38        S  \n",
      "745    male  70.00      1      1  WE/P 5735   71.0000      B22        S  \n",
      "96     male  71.00      0      0   PC 17754   34.6542       A5        C  \n",
      "630    male  80.00      0      0      27042   30.0000      A23        S  \n",
      "\n",
      "[183 rows x 12 columns]\n"
     ]
    }
   ],
   "source": [
    "# Сортировка данных по столбцу 'столбец_1' по возрастанию\n",
    "# Используйте метод .sort_values()\n",
    "# write your code here\n",
    "\n",
    "import pandas as pd\n",
    "\n",
    "\n",
    "file = pd.read_csv('titanic.csv')\n",
    "file = file.dropna()\n",
    "\n",
    "sorted_file = file.sort_values(by='Age')\n",
    "print(sorted_file)"
   ]
  },
  {
   "cell_type": "markdown",
   "id": "eab3cd85-5e96-4228-8834-9ef53b93689a",
   "metadata": {},
   "source": [
    "### Группировка данных\n",
    "Pandas также позволяет группировать данные и выполнять агрегирующие операции."
   ]
  },
  {
   "cell_type": "code",
   "execution_count": 41,
   "id": "25ced901-0482-49a8-8c12-d192e84e3fb3",
   "metadata": {
    "tags": []
   },
   "outputs": [
    {
     "name": "stdout",
     "output_type": "stream",
     "text": [
      "Pclass\n",
      "1    0.629630\n",
      "2    0.472826\n",
      "3    0.242363\n",
      "Name: Survived, dtype: float64\n"
     ]
    }
   ],
   "source": [
    "# Найдите долю выживших среди всех PClass\n",
    "# Используйте метод .groupby()\n",
    "# write your code here\n",
    "\n",
    "import pandas as pd\n",
    "\n",
    "file = pd.read_csv('titanic.csv')\n",
    "\n",
    "survival_rate = file.groupby('Pclass')['Survived'].mean()\n",
    "\n",
    "print(survival_rate)"
   ]
  },
  {
   "cell_type": "markdown",
   "id": "d0355db7-7bf9-46d1-ad51-5f2eddc42501",
   "metadata": {},
   "source": [
    "## Часть 4: Задания для практики\n",
    "Прочитайте данные из файла 'titanic.csv'.\n",
    "Проверьте, есть ли пропущенные значения в данных и заполните их нулями.\n",
    "Выведите первые 10 строк данных.\n",
    "Выберите только те строки, где значение в столбце 'Age' больше 30.\n",
    "Отсортируйте данные по столбцу 'Fare' в порядке убывания.\n",
    "Сгруппируйте данные по столбцу 'Pclass' и вычислите средний возраст ('Age') для каждого класса."
   ]
  },
  {
   "cell_type": "code",
   "execution_count": 50,
   "id": "a1b4deaa-cd06-41b3-8084-5c2d3a867811",
   "metadata": {},
   "outputs": [
    {
     "name": "stdout",
     "output_type": "stream",
     "text": [
      "   PassengerId  Survived  Pclass  \\\n",
      "0            1         0       3   \n",
      "1            2         1       1   \n",
      "2            3         1       3   \n",
      "3            4         1       1   \n",
      "4            5         0       3   \n",
      "5            6         0       3   \n",
      "6            7         0       1   \n",
      "7            8         0       3   \n",
      "8            9         1       3   \n",
      "9           10         1       2   \n",
      "\n",
      "                                                Name     Sex   Age  SibSp  \\\n",
      "0                            Braund, Mr. Owen Harris    male  22.0      1   \n",
      "1  Cumings, Mrs. John Bradley (Florence Briggs Th...  female  38.0      1   \n",
      "2                             Heikkinen, Miss. Laina  female  26.0      0   \n",
      "3       Futrelle, Mrs. Jacques Heath (Lily May Peel)  female  35.0      1   \n",
      "4                           Allen, Mr. William Henry    male  35.0      0   \n",
      "5                                   Moran, Mr. James    male   NaN      0   \n",
      "6                            McCarthy, Mr. Timothy J    male  54.0      0   \n",
      "7                     Palsson, Master. Gosta Leonard    male   2.0      3   \n",
      "8  Johnson, Mrs. Oscar W (Elisabeth Vilhelmina Berg)  female  27.0      0   \n",
      "9                Nasser, Mrs. Nicholas (Adele Achem)  female  14.0      1   \n",
      "\n",
      "   Parch            Ticket     Fare Cabin Embarked  \n",
      "0      0         A/5 21171   7.2500   NaN        S  \n",
      "1      0          PC 17599  71.2833   C85        C  \n",
      "2      0  STON/O2. 3101282   7.9250   NaN        S  \n",
      "3      0            113803  53.1000  C123        S  \n",
      "4      0            373450   8.0500   NaN        S  \n",
      "5      0            330877   8.4583   NaN        Q  \n",
      "6      0             17463  51.8625   E46        S  \n",
      "7      1            349909  21.0750   NaN        S  \n",
      "8      2            347742  11.1333   NaN        S  \n",
      "9      0            237736  30.0708   NaN        C  \n",
      "Pclass\n",
      "1    46.196000\n",
      "2    41.694805\n",
      "3    39.883495\n",
      "Name: Age, dtype: float64\n"
     ]
    }
   ],
   "source": [
    "import pandas as pd\n",
    "\n",
    "df = pd.read_csv('titanic.csv')\n",
    "\n",
    "missing_values = df.isna()\n",
    "\n",
    "df.fillna(0)\n",
    "\n",
    "print(df.head(10))\n",
    "\n",
    "filtered_df = df[df['Age'] > 30]\n",
    "\n",
    "sorted_df = filtered_df.sort_values(by='Fare', ascending=False)\n",
    "\n",
    "age_by_class = sorted_df.groupby('Pclass')['Age'].mean()\n",
    "\n",
    "print(age_by_class)"
   ]
  }
 ],
 "metadata": {
  "kernelspec": {
   "display_name": "Python 3 (ipykernel)",
   "language": "python",
   "name": "python3"
  },
  "language_info": {
   "codemirror_mode": {
    "name": "ipython",
    "version": 3
   },
   "file_extension": ".py",
   "mimetype": "text/x-python",
   "name": "python",
   "nbconvert_exporter": "python",
   "pygments_lexer": "ipython3",
   "version": "3.10.8"
  }
 },
 "nbformat": 4,
 "nbformat_minor": 5
}
